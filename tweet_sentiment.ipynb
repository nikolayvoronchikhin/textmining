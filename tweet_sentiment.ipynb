{
 "cells": [
  {
   "cell_type": "code",
   "execution_count": 155,
   "metadata": {
    "collapsed": false
   },
   "outputs": [],
   "source": [
    "import pandas as pd"
   ]
  },
  {
   "cell_type": "code",
   "execution_count": 156,
   "metadata": {
    "collapsed": false
   },
   "outputs": [],
   "source": [
    "## Example: load a DSS dataset as a Pandas dataframe\n",
    "#mydataset = dataiku.Dataset(\"mydataset\")\n",
    "#mydataset_df = mydataset.get_dataframe()\n",
    "#mydataset_df.head(10)"
   ]
  },
  {
   "cell_type": "code",
   "execution_count": 157,
   "metadata": {
    "collapsed": false
   },
   "outputs": [],
   "source": [
    "## Example: audit a dataframe\n",
    "#pdu.audit(mydataset_df)"
   ]
  },
  {
   "cell_type": "code",
   "execution_count": 158,
   "metadata": {
    "collapsed": false
   },
   "outputs": [
    {
     "name": "stdout",
     "output_type": "stream",
     "text": [
      "We have some delightful new food in the cafeteria. Awesome!!!\n"
     ]
    }
   ],
   "source": [
    "tweet='We have some delightful new food in the cafeteria. Awesome!!!'\n",
    "print tweet"
   ]
  },
  {
   "cell_type": "code",
   "execution_count": 159,
   "metadata": {
    "collapsed": false
   },
   "outputs": [],
   "source": [
    "positive_words=['awesome','good','nice','super','fun']"
   ]
  },
  {
   "cell_type": "code",
   "execution_count": 160,
   "metadata": {
    "collapsed": false
   },
   "outputs": [],
   "source": [
    "positive_words.append('delightful')"
   ]
  },
  {
   "cell_type": "code",
   "execution_count": 161,
   "metadata": {
    "collapsed": false
   },
   "outputs": [
    {
     "ename": "NameError",
     "evalue": "name 'like' is not defined",
     "output_type": "error",
     "traceback": [
      "\u001b[0;31m---------------------------------------------------------------------------\u001b[0m",
      "\u001b[0;31mNameError\u001b[0m                                 Traceback (most recent call last)",
      "\u001b[0;32m<ipython-input-161-d07de71c07d9>\u001b[0m in \u001b[0;36m<module>\u001b[0;34m()\u001b[0m\n\u001b[0;32m----> 1\u001b[0;31m \u001b[0mpositive_words\u001b[0m\u001b[0;34m.\u001b[0m\u001b[0mappend\u001b[0m\u001b[0;34m(\u001b[0m\u001b[0mlike\u001b[0m\u001b[0;34m)\u001b[0m\u001b[0;34m\u001b[0m\u001b[0m\n\u001b[0m",
      "\u001b[0;31mNameError\u001b[0m: name 'like' is not defined"
     ]
    }
   ],
   "source": [
    "positive_words.append(like)"
   ]
  },
  {
   "cell_type": "code",
   "execution_count": 162,
   "metadata": {
    "collapsed": false
   },
   "outputs": [
    {
     "name": "stdout",
     "output_type": "stream",
     "text": [
      "['awesome', 'good', 'nice', 'super', 'fun', 'delightful']\n"
     ]
    }
   ],
   "source": [
    "print positive_words"
   ]
  },
  {
   "cell_type": "code",
   "execution_count": 163,
   "metadata": {
    "collapsed": false
   },
   "outputs": [
    {
     "name": "stdout",
     "output_type": "stream",
     "text": [
      "['awful', 'lame', 'horrible', 'bad']\n"
     ]
    }
   ],
   "source": [
    " negative_words=['awful','lame','horrible','bad']\n",
    "print negative_words"
   ]
  },
  {
   "cell_type": "code",
   "execution_count": 164,
   "metadata": {
    "collapsed": false
   },
   "outputs": [
    {
     "name": "stdout",
     "output_type": "stream",
     "text": [
      "['awful', 'lame', 'horrible', 'bad', 'awesome', 'good', 'nice', 'super', 'fun', 'delightful']\n"
     ]
    }
   ],
   "source": [
    "emotional_words=negative_words+positive_words\n",
    "print emotional_words"
   ]
  },
  {
   "cell_type": "code",
   "execution_count": 165,
   "metadata": {
    "collapsed": false
   },
   "outputs": [
    {
     "name": "stdout",
     "output_type": "stream",
     "text": [
      "['We', 'have', 'some', 'delightful', 'new', 'food', 'in', 'the', 'cafeteria.', 'Awesome!!!']\n"
     ]
    }
   ],
   "source": [
    "words= tweet.split(' ')\n",
    "print words"
   ]
  },
  {
   "cell_type": "code",
   "execution_count": 166,
   "metadata": {
    "collapsed": false
   },
   "outputs": [
    {
     "data": {
      "text/plain": [
       "10"
      ]
     },
     "execution_count": 166,
     "metadata": {},
     "output_type": "execute_result"
    }
   ],
   "source": [
    "len(words)"
   ]
  },
  {
   "cell_type": "code",
   "execution_count": 167,
   "metadata": {
    "collapsed": false
   },
   "outputs": [
    {
     "data": {
      "text/plain": [
       "61"
      ]
     },
     "execution_count": 167,
     "metadata": {},
     "output_type": "execute_result"
    }
   ],
   "source": [
    "len(tweet)"
   ]
  },
  {
   "cell_type": "code",
   "execution_count": 168,
   "metadata": {
    "collapsed": false
   },
   "outputs": [
    {
     "name": "stdout",
     "output_type": "stream",
     "text": [
      "We\n",
      "have\n",
      "some\n",
      "delightful\n",
      "new\n",
      "food\n",
      "in\n",
      "the\n",
      "cafeteria.\n",
      "Awesome!!!\n"
     ]
    }
   ],
   "source": [
    "for word in words:\n",
    "    print word"
   ]
  },
  {
   "cell_type": "code",
   "execution_count": 169,
   "metadata": {
    "collapsed": false
   },
   "outputs": [
    {
     "name": "stdout",
     "output_type": "stream",
     "text": [
      "delightful\n"
     ]
    }
   ],
   "source": [
    "for word in words:\n",
    "    if word in positive_words:\n",
    "        print word"
   ]
  },
  {
   "cell_type": "code",
   "execution_count": 170,
   "metadata": {
    "collapsed": false
   },
   "outputs": [
    {
     "name": "stdout",
     "output_type": "stream",
     "text": [
      "delightful is a positive word\n"
     ]
    }
   ],
   "source": [
    "for word in words:\n",
    "    if word in positive_words:\n",
    "        print word+' is a positive word'"
   ]
  },
  {
   "cell_type": "code",
   "execution_count": 171,
   "metadata": {
    "collapsed": false
   },
   "outputs": [
    {
     "data": {
      "text/plain": [
       "'we have some delightful new food in the cafeteria. awesome!!!'"
      ]
     },
     "execution_count": 171,
     "metadata": {},
     "output_type": "execute_result"
    }
   ],
   "source": [
    "tweet.lower()"
   ]
  },
  {
   "cell_type": "code",
   "execution_count": 172,
   "metadata": {
    "collapsed": false
   },
   "outputs": [
    {
     "name": "stdout",
     "output_type": "stream",
     "text": [
      "we\n",
      "have\n",
      "some\n",
      "delightful\n",
      "new\n",
      "food\n",
      "in\n",
      "the\n",
      "cafeteria.\n",
      "awesome!!!\n"
     ]
    }
   ],
   "source": [
    " for word in words:\n",
    "    print word.lower()"
   ]
  },
  {
   "cell_type": "code",
   "execution_count": 173,
   "metadata": {
    "collapsed": false
   },
   "outputs": [
    {
     "name": "stdout",
     "output_type": "stream",
     "text": [
      "delightful is a positive word\n"
     ]
    }
   ],
   "source": [
    " for word in words:\n",
    "    if word.lower() in positive_words:\n",
    "        print word.lower()+' is a positive word'"
   ]
  },
  {
   "cell_type": "code",
   "execution_count": 174,
   "metadata": {
    "collapsed": false
   },
   "outputs": [
    {
     "name": "stdout",
     "output_type": "stream",
     "text": [
      "We have some delightful new food in the cafeteria. Awesome\n"
     ]
    }
   ],
   "source": [
    "print tweet.replace('!','')"
   ]
  },
  {
   "cell_type": "code",
   "execution_count": 175,
   "metadata": {
    "collapsed": false
   },
   "outputs": [],
   "source": [
    "tweet_noex=tweet.replace('!','')"
   ]
  },
  {
   "cell_type": "code",
   "execution_count": 176,
   "metadata": {
    "collapsed": false
   },
   "outputs": [
    {
     "name": "stdout",
     "output_type": "stream",
     "text": [
      "We have some delightful new food in the cafeteria. Awesome\n"
     ]
    }
   ],
   "source": [
    "print tweet_noex"
   ]
  },
  {
   "cell_type": "code",
   "execution_count": 177,
   "metadata": {
    "collapsed": false
   },
   "outputs": [],
   "source": [
    "tweet_processed=tweet.replace('!','').replace('.','')"
   ]
  },
  {
   "cell_type": "code",
   "execution_count": 178,
   "metadata": {
    "collapsed": false
   },
   "outputs": [
    {
     "name": "stdout",
     "output_type": "stream",
     "text": [
      "We have some delightful new food in the cafeteria Awesome\n"
     ]
    }
   ],
   "source": [
    "print tweet_processed"
   ]
  },
  {
   "cell_type": "code",
   "execution_count": 179,
   "metadata": {
    "collapsed": false
   },
   "outputs": [
    {
     "name": "stdout",
     "output_type": "stream",
     "text": [
      "['we', 'have', 'some', 'delightful', 'new', 'food', 'in', 'the', 'cafeteria', 'awesome']\n"
     ]
    }
   ],
   "source": [
    "tweet_processed=tweet_processed.lower()\n",
    "words=tweet_processed.split(' ')\n",
    "print words"
   ]
  },
  {
   "cell_type": "code",
   "execution_count": 180,
   "metadata": {
    "collapsed": false
   },
   "outputs": [
    {
     "name": "stdout",
     "output_type": "stream",
     "text": [
      "!\"#$%&'()*+,-./:;<=>?@[\\]^_`{|}~\n"
     ]
    }
   ],
   "source": [
    " from string import punctuation\n",
    "print punctuation"
   ]
  },
  {
   "cell_type": "code",
   "execution_count": 181,
   "metadata": {
    "collapsed": false
   },
   "outputs": [],
   "source": [
    "tweet_processed=tweet.lower()"
   ]
  },
  {
   "cell_type": "code",
   "execution_count": 182,
   "metadata": {
    "collapsed": false
   },
   "outputs": [],
   "source": [
    "for p in list(punctuation):\n",
    "    tweet_processed=tweet_processed.replace(p,'')"
   ]
  },
  {
   "cell_type": "code",
   "execution_count": 183,
   "metadata": {
    "collapsed": false
   },
   "outputs": [
    {
     "name": "stdout",
     "output_type": "stream",
     "text": [
      "we have some delightful new food in the cafeteria awesome\n"
     ]
    }
   ],
   "source": [
    "print tweet_processed"
   ]
  },
  {
   "cell_type": "code",
   "execution_count": 184,
   "metadata": {
    "collapsed": false
   },
   "outputs": [
    {
     "name": "stdout",
     "output_type": "stream",
     "text": [
      "delightful is a positive word\n",
      "awesome is a positive word\n"
     ]
    }
   ],
   "source": [
    " for word in words:\n",
    "    if word in positive_words:\n",
    "        print word + ' is a positive word'"
   ]
  },
  {
   "cell_type": "code",
   "execution_count": 185,
   "metadata": {
    "collapsed": false
   },
   "outputs": [
    {
     "name": "stdout",
     "output_type": "stream",
     "text": [
      "we have some delightful new food in the cafeteria awesome\n"
     ]
    }
   ],
   "source": [
    "positive_counter=0\n",
    "tweet_processed=tweet.lower()\n",
    "for p in list(punctuation):\n",
    "    tweet_processed=tweet_processed.replace(p,'')\n",
    "print tweet_processed"
   ]
  },
  {
   "cell_type": "code",
   "execution_count": 186,
   "metadata": {
    "collapsed": false
   },
   "outputs": [],
   "source": [
    "positive_counter=0\n",
    "tweet_processed=tweet.lower()"
   ]
  },
  {
   "cell_type": "code",
   "execution_count": 187,
   "metadata": {
    "collapsed": false
   },
   "outputs": [],
   "source": [
    " for p in list(punctuation):\n",
    "    tweet_processed=tweet_processed.replace(p,'')"
   ]
  },
  {
   "cell_type": "code",
   "execution_count": 188,
   "metadata": {
    "collapsed": false
   },
   "outputs": [
    {
     "name": "stdout",
     "output_type": "stream",
     "text": [
      "we have some delightful new food in the cafeteria awesome\n"
     ]
    }
   ],
   "source": [
    "print tweet_processed"
   ]
  },
  {
   "cell_type": "code",
   "execution_count": 189,
   "metadata": {
    "collapsed": false
   },
   "outputs": [
    {
     "name": "stdout",
     "output_type": "stream",
     "text": [
      "delightful is a positive word\n",
      "awesome is a positive word\n"
     ]
    }
   ],
   "source": [
    "for word in words:\n",
    "    if word in positive_words:\n",
    "        print word+ ' is a positive word'\n",
    "        positive_counter=positive_counter+1"
   ]
  },
  {
   "cell_type": "code",
   "execution_count": 190,
   "metadata": {
    "collapsed": false
   },
   "outputs": [
    {
     "name": "stdout",
     "output_type": "stream",
     "text": [
      "2\n"
     ]
    }
   ],
   "source": [
    "print positive_counter"
   ]
  },
  {
   "cell_type": "code",
   "execution_count": 191,
   "metadata": {
    "collapsed": false
   },
   "outputs": [
    {
     "data": {
      "text/plain": [
       "0.2"
      ]
     },
     "execution_count": 191,
     "metadata": {},
     "output_type": "execute_result"
    }
   ],
   "source": [
    "positive_counter/len(words)"
   ]
  },
  {
   "cell_type": "code",
   "execution_count": 192,
   "metadata": {
    "collapsed": false
   },
   "outputs": [],
   "source": [
    "from __future__ import division"
   ]
  },
  {
   "cell_type": "code",
   "execution_count": 193,
   "metadata": {
    "collapsed": false
   },
   "outputs": [
    {
     "data": {
      "text/plain": [
       "0.2"
      ]
     },
     "execution_count": 193,
     "metadata": {},
     "output_type": "execute_result"
    }
   ],
   "source": [
    "positive_counter/len(words)"
   ]
  },
  {
   "cell_type": "code",
   "execution_count": 194,
   "metadata": {
    "collapsed": false
   },
   "outputs": [],
   "source": [
    "import urllib"
   ]
  },
  {
   "cell_type": "code",
   "execution_count": 195,
   "metadata": {
    "collapsed": false
   },
   "outputs": [],
   "source": [
    "url='http://www.unc.edu/~ncaren/haphazard/negative.txt'"
   ]
  },
  {
   "cell_type": "code",
   "execution_count": 196,
   "metadata": {
    "collapsed": false
   },
   "outputs": [],
   "source": [
    "file_name='negative.txt'"
   ]
  },
  {
   "cell_type": "code",
   "execution_count": 197,
   "metadata": {
    "collapsed": false
   },
   "outputs": [
    {
     "data": {
      "text/plain": [
       "('negative.txt', <httplib.HTTPMessage instance at 0x106dcc440>)"
      ]
     },
     "execution_count": 197,
     "metadata": {},
     "output_type": "execute_result"
    }
   ],
   "source": [
    " urllib.urlretrieve(url,file_name)"
   ]
  },
  {
   "cell_type": "code",
   "execution_count": 198,
   "metadata": {
    "collapsed": false
   },
   "outputs": [
    {
     "data": {
      "text/plain": [
       "('negative.txt', <httplib.HTTPMessage instance at 0x106dcc5a8>)"
      ]
     },
     "execution_count": 198,
     "metadata": {},
     "output_type": "execute_result"
    }
   ],
   "source": [
    "urllib.urlretrieve('http://www.unc.edu/~ncaren/haphazard/negative.txt','negative.txt')"
   ]
  },
  {
   "cell_type": "code",
   "execution_count": 199,
   "metadata": {
    "collapsed": false
   },
   "outputs": [],
   "source": [
    "files=['negative.txt','positive.txt','obama_tweets.txt']"
   ]
  },
  {
   "cell_type": "code",
   "execution_count": 200,
   "metadata": {
    "collapsed": false
   },
   "outputs": [],
   "source": [
    "path='http://www.unc.edu/~ncaren/haphazard/'"
   ]
  },
  {
   "cell_type": "code",
   "execution_count": 201,
   "metadata": {
    "collapsed": false
   },
   "outputs": [],
   "source": [
    "for file_name in files:\n",
    "    urllib.urlretrieve(path+file_name,file_name)"
   ]
  },
  {
   "cell_type": "code",
   "execution_count": 202,
   "metadata": {
    "collapsed": false
   },
   "outputs": [],
   "source": [
    "tweets = open(\"obama_tweets.txt\").read()"
   ]
  },
  {
   "cell_type": "code",
   "execution_count": 203,
   "metadata": {
    "collapsed": false
   },
   "outputs": [],
   "source": [
    "tweets_list = tweets.split('\\n')"
   ]
  },
  {
   "cell_type": "code",
   "execution_count": 204,
   "metadata": {
    "collapsed": false
   },
   "outputs": [
    {
     "data": {
      "text/plain": [
       "1365"
      ]
     },
     "execution_count": 204,
     "metadata": {},
     "output_type": "execute_result"
    }
   ],
   "source": [
    "len(tweets_list)"
   ]
  },
  {
   "cell_type": "code",
   "execution_count": 205,
   "metadata": {
    "collapsed": false
   },
   "outputs": [
    {
     "name": "stdout",
     "output_type": "stream",
     "text": [
      "Obama has called the GOP budget social Darwinism. Nice try, but they believe in social creationism.\n",
      "In his teen years, Obama has been known to use marijuana and cocaine.\n",
      "IPA Congratulates President Barack Obama for Leadership Regarding JOBS Act: WASHINGTON, Apr 05, 2012 (BUSINESS W... http://t.co/8le3DC8E\n",
      "RT @Professor_Why: #WhatsRomneyHiding - his connection to supporters of Critical Race Theory.... Oh wait, that was Obama, not Romney...\n",
      "RT @wardollarshome: Obama has approved more targeted assassinations than any modern US prez; READ & RT: http://t.co/bfC4gbBW\n",
      "Video shows federal officials joking about cost of lavish conference http://t.co/2i4SmoPM #obama #crime #p2 #news #tcot #teaparty\n",
      "one Chicago kid who says \"Obama is my man\" tells Jesse Watters that the gun violence in Chicago is like \"World War 17\"\n",
      "RT @ohgirlphrase: American kid \"You're from the UK? Ohhh cool, So do you have tea with the Queen?\". British kid: \"Do you like, go to Mcdonalds with Obama?\n",
      "A valid explanation for why Obama won't let women on the golf course.   #WhatsRomneyHiding\n",
      "President Obama &lt; Lindsay Lohan RUMORS beginning cross shape lights on ST &lt; 1987 Analyst64 DC bicycle courier &lt; Video changes to scramble.\n"
     ]
    }
   ],
   "source": [
    "for tweet in tweets_list[0:10]:\n",
    "    print tweet"
   ]
  },
  {
   "cell_type": "code",
   "execution_count": 206,
   "metadata": {
    "collapsed": false
   },
   "outputs": [
    {
     "name": "stdout",
     "output_type": "stream",
     "text": [
      "['In his teen years, Obama has been known to use marijuana and cocaine.']\n"
     ]
    }
   ],
   "source": [
    "print tweets_list[1:2]"
   ]
  },
  {
   "cell_type": "code",
   "execution_count": 207,
   "metadata": {
    "collapsed": false
   },
   "outputs": [
    {
     "name": "stdout",
     "output_type": "stream",
     "text": [
      "['abidance', 'abidance', 'abilities', 'ability', 'able', 'above', 'above-average', 'abundant', 'abundance', 'acceptance']\n"
     ]
    }
   ],
   "source": [
    "pos_sent = open(\"positive.txt\").read()\n",
    "positive_words=pos_sent.split('\\n')\n",
    "positive_counts=[]\n",
    "print positive_words[:10]"
   ]
  },
  {
   "cell_type": "code",
   "execution_count": 208,
   "metadata": {
    "collapsed": false
   },
   "outputs": [
    {
     "name": "stdout",
     "output_type": "stream",
     "text": [
      "['abandoned', 'abandonment', 'aberration', 'aberration', 'abhorred', 'abhorrence', 'abhorrent', 'abhorrently', 'abhors', 'abhors']\n"
     ]
    }
   ],
   "source": [
    "neg_sent = open('negative.txt').read()\n",
    "negative_words=neg_sent.split('\\n')\n",
    "negative_counts=[]\n",
    "print negative_words[:10]"
   ]
  },
  {
   "cell_type": "code",
   "execution_count": 209,
   "metadata": {
    "collapsed": false
   },
   "outputs": [
    {
     "name": "stdout",
     "output_type": "stream",
     "text": [
      "nice\n",
      "\n",
      "modern\n",
      "\n",
      "lavish\n",
      "crime\n",
      "war\n",
      "valid\n",
      "\n",
      "\n",
      "rumors\n",
      "cross\n",
      "advantage\n",
      "\n",
      "\n",
      "dignity\n",
      "sense\n",
      "will\n",
      "\n",
      "advantage\n",
      "\n",
      "significant\n",
      "lame\n",
      "blame\n",
      "\n",
      "\n",
      "\n",
      "love\n",
      "game\n",
      "\n",
      "funny\n",
      "\n",
      "good\n",
      "support\n",
      "reason\n",
      "proud\n",
      "\n",
      "love\n",
      "racism\n",
      "black\n",
      "\n",
      "bad\n",
      "just\n",
      "bankrupt\n",
      "radical\n",
      "\n",
      "glad\n",
      "will\n",
      "white\n",
      "just\n",
      "easy\n",
      "even\n",
      "bogus\n",
      "supreme\n",
      "\n",
      "restraint\n",
      "grand\n",
      "interest\n",
      "will\n",
      "defense\n",
      "\n",
      "right\n",
      "\n",
      "need\n",
      "\n",
      "bastard\n",
      "bully\n",
      "sure\n",
      "handsome\n",
      "triumph\n",
      "novel\n",
      "fiction\n",
      "entertaining\n",
      "\n",
      "war\n",
      "\n",
      "might\n",
      "well\n",
      "\n",
      "just\n",
      "dumb\n",
      "smart\n",
      "\n",
      "attractive\n",
      "challenge\n",
      "against\n",
      "free\n",
      "\n",
      "will\n",
      "able\n",
      "trying\n",
      "respect\n",
      "passionate\n",
      "\n",
      "bully\n",
      "great\n",
      "honest\n",
      "loyal\n",
      "friends\n",
      "smart\n",
      "just\n",
      "rich\n",
      "\n",
      "incompetent\n",
      "\n",
      "\n",
      "just\n",
      "hot\n",
      "upset\n",
      "need\n",
      "love\n",
      "even\n",
      "\n",
      "enemies\n",
      "will\n",
      "civil\n",
      "futile\n",
      "interest\n",
      "will\n",
      "fun\n",
      "will\n",
      "fun\n",
      "wrong\n",
      "agreement\n",
      "nice\n",
      "bully\n",
      "support\n",
      "worst\n",
      "\n",
      "moving\n",
      "modern\n",
      "\n",
      "fun\n",
      "\n",
      "\n",
      "\n",
      "debacle\n",
      "poor\n",
      "mean\n",
      "open\n",
      "praising\n",
      "boost\n",
      "white\n",
      "weak\n",
      "impossible\n",
      "agreement\n",
      "\n",
      "dangerous\n",
      "\n",
      "important\n",
      "\n",
      "\n",
      "respect\n",
      "\n",
      "annoying\n",
      "will\n",
      "effective\n",
      "little\n",
      "important\n",
      "\n",
      "bully\n",
      "trying\n",
      "strong\n",
      "fake\n",
      "agreement\n",
      "\n",
      "fictional\n",
      "important\n",
      "\n",
      "\n",
      "farce\n",
      "\n",
      "\n",
      "ignorant\n",
      "will\n",
      "fun\n",
      "will\n",
      "fun\n",
      "well\n",
      "good\n",
      "bad\n",
      "stupid\n",
      "fun\n",
      "\n",
      "\n",
      "blame\n",
      "narrow\n",
      "blame\n",
      "right\n",
      "supreme\n",
      "challenge\n",
      "praising\n",
      "bully\n",
      "endorsement\n",
      "dim\n",
      "able\n",
      "\n",
      "\n",
      "sweet\n",
      "\n",
      "\n",
      "will\n",
      "top\n",
      "\n",
      "support\n",
      "reliable\n",
      "right\n",
      "petty\n",
      "lame\n",
      "strong\n",
      "\n",
      "interesting\n",
      "game\n",
      "\n",
      "just\n",
      "dumb\n",
      "smart\n",
      "\n",
      "\n",
      "just\n",
      "hot\n",
      "upset\n",
      "need\n",
      "disaster\n",
      "\n",
      "scandal\n",
      "will\n",
      "bully\n",
      "\n",
      "will\n",
      "irony\n",
      "fun\n",
      "war\n",
      "nice\n",
      "better\n",
      "praising\n",
      "bully\n",
      "well\n",
      "glad\n",
      "important\n",
      "accuses\n",
      "\n",
      "real\n",
      "real\n",
      "bad\n",
      "\n",
      "exposed\n",
      "serious\n",
      "interest\n",
      "will\n",
      "defense\n",
      "important\n",
      "swear\n",
      "just\n",
      "down\n",
      "doubtful\n",
      "illegal\n",
      "mean\n",
      "unconstitutional\n",
      "sure\n",
      "\n",
      "\n",
      "\n",
      "truly\n",
      "\n",
      "\n",
      "sickening\n",
      "agreement\n",
      "fun\n",
      "ridiculous\n",
      "truly\n",
      "bad\n",
      "radical\n",
      "interesting\n",
      "top\n",
      "\n",
      "need\n",
      "favorite\n",
      "respect\n",
      "elite\n",
      "puppet\n",
      "interesting\n",
      "\n",
      "right\n",
      "will\n",
      "will\n",
      "will\n",
      "\n",
      "deception\n",
      "lie\n",
      "infidel\n",
      "destruction\n",
      "hope\n",
      "deal\n",
      "\n",
      "\n",
      "ill\n",
      "prepared\n",
      "down\n",
      "\n",
      "supreme\n",
      "\n",
      "\n",
      "\n",
      "ill\n",
      "fun\n",
      "\n",
      "\n",
      "mad\n",
      "interest\n",
      "liberal\n",
      "\n",
      "defense\n",
      "ease\n",
      "bully\n",
      "will\n",
      "disobedience\n",
      "will\n",
      "will\n",
      "\n",
      "support\n",
      "manipulative\n",
      "\n",
      "white\n",
      "nice\n",
      "will\n",
      "great\n",
      "advantage\n",
      "bully\n",
      "jam\n",
      "queer\n",
      "important\n",
      "important\n",
      "\n",
      "dreams\n",
      "interesting\n",
      "interesting\n",
      "\n",
      "knock\n",
      "\n",
      "exclusive\n",
      "shrew\n",
      "divorce\n",
      "puppet\n",
      "praising\n",
      "fiction\n",
      "\n",
      "\n",
      "willingness\n",
      "stupidly\n",
      "fun\n",
      "\n",
      "\n",
      "white\n",
      "damage\n",
      "supreme\n",
      "white\n",
      "defensive\n",
      "\n",
      "large\n",
      "will\n",
      "offensive\n",
      "sorry\n",
      "wrong\n",
      "\n",
      "just\n",
      "hot\n",
      "upset\n",
      "need\n",
      "worst\n",
      "\n",
      "exclusive\n",
      "ultra\n",
      "profitable\n",
      "\n",
      "\n",
      "\n",
      "worse\n",
      "will\n",
      "illuminati\n",
      "trying\n",
      "right\n",
      "\n",
      "good\n",
      "advantage\n",
      "important\n",
      "supreme\n",
      "funny\n",
      "stupid\n",
      "fun\n",
      "\n",
      "\n",
      "bully\n",
      "\n",
      "desperate\n",
      "will\n",
      "loss\n",
      "contrary\n",
      "wishes\n",
      "racist\n",
      "treason\n",
      "contrary\n",
      "wishes\n",
      "racist\n",
      "treason\n",
      "just\n",
      "dumb\n",
      "smart\n",
      "\n",
      "threatening\n",
      "accuses\n",
      "intimidation\n",
      "\n",
      "racist\n",
      "unqualified\n",
      "\n",
      "congratulations\n",
      "entertaining\n",
      "fraud\n",
      "black\n",
      "security\n",
      "reason\n",
      "rights\n",
      "\n",
      "\n",
      "praising\n",
      "happy\n",
      "love\n",
      "nice\n",
      "\n",
      "worried\n",
      "utter\n",
      "failure\n",
      "love\n",
      "exposed\n",
      "entertaining\n",
      "\n",
      "unqualified\n",
      "scared\n",
      "against\n",
      "\n",
      "racist\n",
      "\n",
      "\n",
      "treason\n",
      "hope\n",
      "deal\n",
      "love\n",
      "supreme\n",
      "against\n",
      "striking\n",
      "down\n",
      "\n",
      "rights\n",
      "independence\n",
      "dig\n",
      "wow\n",
      "challenging\n",
      "legitimacy\n",
      "supreme\n",
      "boost\n",
      "\n",
      "important\n",
      "\n",
      "\n",
      "praising\n",
      "down\n",
      "dispute\n",
      "rights\n",
      "\n",
      "\n",
      "masters\n",
      "\n",
      "just\n",
      "white\n",
      "worry\n",
      "down\n",
      "nonsense\n",
      "live\n",
      "just\n",
      "dumb\n",
      "smart\n",
      "\n",
      "just\n",
      "hot\n",
      "upset\n",
      "need\n",
      "contrary\n",
      "wishes\n",
      "racist\n",
      "treason\n",
      "incredible\n",
      "harmful\n",
      "important\n",
      "\n",
      "surge\n",
      "well\n",
      "\n",
      "\n",
      "\n",
      "\n",
      "\n",
      "white\n",
      "\n",
      "\n",
      "black\n",
      "need\n",
      "\n",
      "\n",
      "\n",
      "treason\n",
      "fun\n",
      "\n",
      "\n",
      "praising\n",
      "reason\n",
      "right\n",
      "\n",
      "\n",
      "real\n",
      "antithetical\n",
      "antithetical\n",
      "bias\n",
      "better\n",
      "\n",
      "live\n",
      "\n",
      "well\n",
      "\n",
      "praising\n",
      "promise\n",
      "will\n",
      "\n",
      "\n",
      "\n",
      "\n",
      "important\n",
      "nice\n",
      "support\n",
      "love\n",
      "support\n",
      "cross\n",
      "strong\n",
      "\n",
      "lies\n",
      "\n",
      "\n",
      "\n",
      "fun\n",
      "\n",
      "\n",
      "\n",
      "treason\n",
      "illegal\n",
      "ready\n",
      "\n",
      "prepared\n",
      "\n",
      "\n",
      "\n",
      "\n",
      "\n",
      "real\n",
      "will\n",
      "rights\n",
      "\n",
      "\n",
      "\n",
      "\n",
      "rumors\n",
      "\n",
      "\n",
      "well\n",
      "top\n",
      "support\n",
      "reason\n",
      "proud\n",
      "\n",
      "wee\n",
      "excessive\n",
      "obsession\n",
      "heart\n",
      "desperate\n",
      "will\n",
      "loss\n",
      "\n",
      "attack\n",
      "drama\n",
      "\n",
      "\n",
      "\n",
      "rumors\n",
      "special\n",
      "\n",
      "\n",
      "fantasy\n",
      "\n",
      "\n",
      "\n",
      "\n",
      "bully\n",
      "just\n",
      "hot\n",
      "upset\n",
      "need\n",
      "detrimental\n",
      "honestly\n",
      "\n",
      "\n",
      "ill\n",
      "fantasy\n",
      "\n",
      "progressive\n",
      "will\n",
      "bankrupt\n",
      "\n",
      "just\n",
      "mean\n",
      "criticism\n",
      "poor\n",
      "important\n",
      "booming\n",
      "doomsday\n",
      "will\n",
      "\n",
      "white\n",
      "damage\n",
      "supreme\n",
      "\n",
      "support\n",
      "free\n",
      "\n",
      "white\n",
      "\n",
      "drones\n",
      "guarantee\n",
      "less\n",
      "genius\n",
      "security\n",
      "less\n",
      "irony\n",
      "\n",
      "\n",
      "\n",
      "rumors\n",
      "\n",
      "\n",
      "\n",
      "important\n",
      "hope\n",
      "security\n",
      "least\n",
      "slightly\n",
      "\n",
      "nice\n",
      "security\n",
      "less\n",
      "irony\n",
      "\n",
      "\n",
      "\n",
      "rumors\n",
      "\n",
      "\n",
      "\n",
      "important\n",
      "hope\n",
      "security\n",
      "least\n",
      "slightly\n",
      "\n",
      "need\n",
      "favorite\n",
      "respect\n",
      "stupid\n",
      "\n",
      "\n",
      "trust\n",
      "\n",
      "\n",
      "help\n",
      "patriot\n",
      "less\n",
      "love\n",
      "\n",
      "despite\n",
      "support\n",
      "right\n",
      "losing\n",
      "\n",
      "traitor\n",
      "hater\n",
      "freedom\n",
      "\n",
      "white\n",
      "\n",
      "rumors\n",
      "cross\n",
      "\n",
      "\n",
      "hope\n",
      "just\n",
      "dumb\n",
      "smart\n",
      "\n",
      "will\n",
      "\n",
      "\n",
      "ridiculous\n",
      "addiction\n",
      "bad\n",
      "worried\n",
      "free\n",
      "against\n",
      "\n",
      "\n",
      "\n",
      "serious\n",
      "will\n",
      "will\n",
      "veto\n",
      "ultimate\n",
      "scheme\n",
      "precious\n",
      "wild\n",
      "rights\n",
      "\n",
      "\n",
      "trying\n",
      "respect\n",
      "challenge\n",
      "sexy\n",
      "wow\n",
      "true\n",
      "corrupt\n",
      "\n",
      "understood\n",
      "\n",
      "real\n",
      "sexy\n",
      "fraud\n",
      "\n",
      "hope\n",
      "stole\n",
      "praising\n",
      "\n",
      "bully\n",
      "supreme\n",
      "need\n",
      "\n",
      "incompetent\n",
      "wasteful\n",
      "divisive\n",
      "desperate\n",
      "flexible\n",
      "arrogant\n",
      "lazy\n",
      "rich\n",
      "stupid\n",
      "sorry\n",
      "important\n",
      "\n",
      "\n",
      "real\n",
      "respect\n",
      "\n",
      "stunt\n",
      "just\n",
      "important\n",
      "right\n",
      "wrong\n",
      "need\n",
      "white\n",
      "\n",
      "just\n",
      "hot\n",
      "upset\n",
      "need\n",
      "embarrassing\n",
      "just\n",
      "\n",
      "even\n",
      "bully\n",
      "damn\n",
      "might\n",
      "horribly\n",
      "eager\n",
      "\n",
      "\n",
      "\n",
      "loss\n",
      "wrong\n",
      "nice\n",
      "lame\n",
      "\n",
      "mad\n",
      "bad\n",
      "fake\n",
      "right\n",
      "lying\n",
      "\n",
      "\n",
      "fraud\n",
      "boost\n",
      "\n",
      "even\n",
      "good\n",
      "humanity\n",
      "\n",
      "\n",
      "\n",
      "seriously\n",
      "\n",
      "felon\n",
      "understanding\n",
      "\n",
      "interest\n",
      "will\n",
      "defense\n",
      "\n",
      "stale\n",
      "positive\n",
      "accomplishments\n",
      "real\n",
      "\n",
      "\n",
      "will\n",
      "\n",
      "great\n",
      "\n",
      "\n",
      "wow\n",
      "pretty\n",
      "pointless\n",
      "excited\n",
      "well\n",
      "\n",
      "need\n",
      "\n",
      "incompetent\n",
      "wasteful\n",
      "divisive\n",
      "desperate\n",
      "flexible\n",
      "arrogant\n",
      "lazy\n",
      "\n",
      "lies\n",
      "dunce\n",
      "\n",
      "pretty\n",
      "white\n",
      "great\n",
      "criminal\n",
      "war\n",
      "even\n",
      "good\n",
      "humanity\n",
      "\n",
      "support\n",
      "reason\n",
      "proud\n",
      "\n",
      "less\n",
      "\n",
      "\n",
      "knock\n",
      "\n",
      "\n",
      "need\n",
      "favorite\n",
      "respect\n",
      "laugh\n",
      "guilty\n",
      "treason\n",
      "against\n",
      "\n",
      "white\n",
      "help\n",
      "advantage\n",
      "weak\n",
      "supreme\n",
      "live\n",
      "\n",
      "crude\n",
      "bully\n",
      "help\n",
      "\n",
      "\n",
      "swore\n",
      "\n",
      "\n",
      "\n",
      "top\n",
      "war\n",
      "illuminati\n",
      "conspiracy\n",
      "will\n",
      "extreme\n",
      "hot\n",
      "\n",
      "right\n",
      "blame\n",
      "open\n",
      "light\n",
      "\n",
      "\n",
      "\n",
      "well\n",
      "just\n",
      "anger\n",
      "\n",
      "strange\n",
      "nice\n",
      "\n",
      "\n",
      "pledge\n",
      "against\n",
      "sure\n",
      "\n",
      "\n",
      "unresolved\n",
      "support\n",
      "\n",
      "down\n",
      "dispute\n",
      "support\n",
      "collapse\n",
      "well\n",
      "well\n",
      "top\n",
      "\n",
      "dim\n",
      "\n",
      "hell\n",
      "\n",
      "even\n",
      "good\n",
      "humanity\n",
      "\n",
      "\n",
      "\n",
      "just\n",
      "support\n",
      "rights\n",
      "bully\n",
      "white\n",
      "pledge\n",
      "against\n",
      "sure\n",
      "white\n",
      "white\n",
      "patriot\n",
      "suspicion\n",
      "mature\n",
      "sure\n",
      "love\n",
      "supreme\n",
      "startling\n",
      "accusation\n",
      "against\n",
      "shocking\n",
      "\n",
      "\n",
      "awestruck\n",
      "amazing\n",
      "\n",
      "\n",
      "lie\n",
      "just\n",
      "ignorant\n",
      "ridicule\n",
      "\n",
      "rift\n",
      "\n",
      "\n",
      "\n",
      "sense\n",
      "\n",
      "important\n",
      "\n",
      "weaknesses\n",
      "attack\n",
      "war\n",
      "illegal\n",
      "free\n",
      "\n",
      "just\n",
      "hell\n",
      "white\n",
      "white\n",
      "important\n",
      "\n",
      "hope\n",
      "deal\n",
      "clean\n",
      "supporter\n",
      "pure\n",
      "supporter\n",
      "trying\n",
      "clean\n",
      "just\n",
      "hot\n",
      "upset\n",
      "\n",
      "need\n",
      "\n",
      "\n",
      "intimidation\n",
      "supreme\n",
      "\n",
      "\n",
      "\n",
      "fun\n",
      "irony\n",
      "\n",
      "reliable\n",
      "disabled\n",
      "need\n",
      "good\n",
      "real\n",
      "even\n",
      "honest\n",
      "sexy\n",
      "nice\n",
      "need\n",
      "good\n",
      "real\n",
      "even\n",
      "honest\n",
      "sexy\n",
      "down\n",
      "\n",
      "drive\n",
      "deception\n",
      "\n",
      "\n",
      "lying\n",
      "hope\n",
      "deal\n",
      "\n",
      "interest\n",
      "bloody\n",
      "need\n",
      "will\n",
      "\n",
      "help\n",
      "\n",
      "fair\n",
      "revolution\n",
      "\n",
      "\n",
      "war\n",
      "worst\n",
      "enemy\n",
      "important\n",
      "\n",
      "perfect\n",
      "\n",
      "perfectly\n",
      "support\n",
      "kick\n",
      "liberal\n",
      "stooges\n",
      "\n",
      "\n",
      "\n",
      "\n",
      "\n",
      "white\n",
      "argument\n",
      "freedom\n",
      "even\n",
      "white\n",
      "priceless\n",
      "lame\n",
      "stupid\n",
      "important\n",
      "\n",
      "just\n",
      "torture\n",
      "need\n",
      "favorite\n",
      "respect\n",
      "champion\n",
      "just\n",
      "hell\n",
      "white\n",
      "\n",
      "interest\n",
      "will\n",
      "defense\n",
      "\n",
      "right\n",
      "wrong\n",
      "need\n",
      "will\n",
      "positive\n",
      "sure\n",
      "important\n",
      "\n",
      "glad\n",
      "blame\n",
      "important\n",
      "hope\n",
      "war\n",
      "worst\n",
      "enemy\n",
      "worried\n",
      "lame\n",
      "\n",
      "bad\n",
      "just\n",
      "bankrupt\n",
      "\n",
      "freedoms\n",
      "hope\n",
      "deal\n",
      "\n",
      "swear\n",
      "support\n",
      "reason\n",
      "proud\n",
      "\n",
      "will\n",
      "\n",
      "accuses\n",
      "\n",
      "support\n",
      "live\n",
      "even\n",
      "white\n",
      "white\n",
      "fell\n",
      "better\n",
      "need\n",
      "favorite\n",
      "respect\n",
      "decent\n",
      "will\n",
      "\n",
      "\n",
      "damn\n",
      "\n",
      "\n",
      "\n",
      "racism\n",
      "penalty\n",
      "against\n",
      "great\n",
      "illegal\n",
      "\n",
      "\n",
      "\n",
      "important\n",
      "\n",
      "nice\n",
      "\n",
      "racism\n",
      "penalty\n",
      "against\n",
      "great\n",
      "illegal\n",
      "\n",
      "\n",
      "\n",
      "important\n",
      "\n",
      "\n",
      "\n",
      "rumors\n",
      "\n",
      "\n",
      "\n",
      "interest\n",
      "friends\n",
      "will\n",
      "contempt\n",
      "\n",
      "\n",
      "antithetical\n",
      "antithetical\n",
      "bondage\n",
      "liberty\n",
      "\n",
      "\n",
      "allegations\n",
      "uphold\n",
      "integrity\n",
      "necessary\n",
      "less\n",
      "miraculous\n",
      "patriot\n",
      "preemptive\n",
      "liberal\n",
      "attack\n",
      "hypocritical\n",
      "illogical\n",
      "strong\n",
      "great\n",
      "\n",
      "better\n",
      "jealous\n",
      "good\n",
      "luck\n",
      "\n",
      "inept\n",
      "\n",
      "attractive\n",
      "will\n",
      "rich\n",
      "white\n",
      "live\n",
      "free\n",
      "hard\n",
      "\n",
      "freedom\n",
      "\n",
      "rumors\n",
      "special\n",
      "\n",
      "\n",
      "\n",
      "\n",
      "idiot\n",
      "war\n",
      "important\n",
      "\n",
      "holy\n",
      "\n",
      "holy\n",
      "passion\n",
      "murder\n",
      "\n",
      "black\n",
      "disabled\n",
      "clearly\n",
      "real\n",
      "dirty\n",
      "rat\n",
      "bastard\n",
      "hell\n",
      "hope\n",
      "funny\n",
      "just\n",
      "\n",
      "rumors\n",
      "\n",
      "\n",
      "\n",
      "right\n",
      "lying\n",
      "\n",
      "\n",
      "fraud\n",
      "will\n",
      "just\n",
      "dumb\n",
      "smart\n",
      "\n",
      "attractive\n",
      "bogus\n",
      "\n",
      "liberal\n",
      "propaganda\n",
      "\n",
      "trying\n",
      "\n",
      "ease\n",
      "\n",
      "funny\n",
      "\n",
      "losing\n",
      "crazy\n",
      "skeletons\n",
      "will\n",
      "supporter\n",
      "trying\n",
      "clean\n",
      "supreme\n",
      "\n",
      "rumors\n",
      "cross\n",
      "\n",
      "\n",
      "disabled\n",
      "\n",
      "hell\n",
      "idiotic\n",
      "\n",
      "\n",
      "will\n",
      "\n",
      "\n",
      "\n",
      "supreme\n",
      "\n",
      "\n",
      "pretty\n",
      "good\n",
      "hot\n",
      "\n",
      "dumb\n",
      "better\n",
      "better\n",
      "black\n",
      "need\n",
      "favorite\n",
      "respect\n",
      "liberal\n",
      "\n",
      "good\n",
      "nice\n",
      "\n",
      "flexible\n",
      "dear\n",
      "mean\n",
      "recession\n",
      "dim\n",
      "interest\n",
      "independent\n",
      "grand\n",
      "\n",
      "right\n",
      "wrong\n",
      "need\n",
      "insult\n",
      "will\n",
      "\n",
      "fine\n",
      "white\n",
      "\n",
      "complaining\n",
      "\n",
      "light\n",
      "black\n",
      "sorry\n",
      "honesty\n",
      "golden\n",
      "leading\n",
      "bastard\n",
      "liar\n",
      "deceit\n",
      "just\n",
      "free\n",
      "\n",
      "defeat\n",
      "just\n",
      "trying\n",
      "nice\n",
      "hope\n",
      "deal\n",
      "\n",
      "bad\n",
      "just\n",
      "bankrupt\n",
      "dangerous\n",
      "incompetent\n",
      "hope\n",
      "clearly\n",
      "bully\n",
      "supreme\n",
      "\n",
      "need\n",
      "\n",
      "lost\n",
      "\n",
      "\n",
      "\n",
      "slur\n",
      "just\n",
      "\n",
      "educated\n",
      "losing\n",
      "liberalism\n",
      "security\n",
      "losing\n",
      "war\n",
      "attack\n",
      "liberal\n",
      "civility\n",
      "\n",
      "just\n",
      "white\n",
      "\n",
      "\n",
      "\n",
      "white\n",
      "racist\n",
      "fun\n",
      "good\n",
      "good\n",
      "important\n",
      "\n",
      "bum\n",
      "supreme\n",
      "unconstitutional\n",
      "nice\n",
      "bum\n",
      "need\n",
      "favorite\n",
      "respect\n",
      "down\n",
      "\n",
      "\n",
      "\n",
      "perfect\n",
      "\n",
      "perfectly\n",
      "\n",
      "\n",
      "despot\n",
      "better\n",
      "despot\n",
      "disabled\n",
      "\n",
      "\n",
      "pretty\n",
      "ready\n",
      "\n",
      "negative\n",
      "rumor\n",
      "\n",
      "\n",
      "good\n",
      "simple\n",
      "fortitude\n",
      "little\n",
      "will\n",
      "lost\n",
      "\n",
      "\n",
      "\n",
      "\n",
      "\n",
      "\n",
      "good\n",
      "\n",
      "white\n",
      "tired\n",
      "relentless\n",
      "warfare\n",
      "maddening\n",
      "will\n",
      "down\n",
      "unable\n",
      "\n",
      "justice\n",
      "bully\n",
      "nice\n",
      "good\n",
      "\n",
      "white\n",
      "tired\n",
      "relentless\n",
      "warfare\n",
      "maddening\n",
      "will\n",
      "down\n",
      "unable\n",
      "\n",
      "justice\n",
      "bully\n",
      "\n",
      "\n",
      "independent\n",
      "grand\n",
      "supreme\n",
      "\n",
      "liar\n",
      "deceit\n",
      "white\n",
      "\n",
      "\n",
      "drama\n",
      "will\n",
      "\n",
      "just\n",
      "will\n",
      "against\n",
      "\n",
      "\n",
      "\n",
      "\n",
      "decisive\n",
      "\n",
      "fair\n",
      "truly\n",
      "serious\n",
      "epic\n",
      "damn\n",
      "might\n",
      "sexy\n",
      "\n",
      "\n",
      "star\n",
      "star\n",
      "\n",
      "just\n",
      "lies\n",
      "scum\n",
      "liars\n",
      "right\n",
      "friends\n",
      "white\n",
      "\n",
      "\n",
      "deal\n",
      "moving\n",
      "brilliant\n",
      "hope\n",
      "fight\n",
      "will\n",
      "interest\n",
      "live\n",
      "interest\n",
      "boost\n",
      "\n",
      "better\n",
      "\n",
      "\n",
      "weaknesses\n",
      "worry\n",
      "justice\n",
      "supreme\n",
      "\n",
      "\n",
      "\n",
      "\n",
      "boldly\n",
      "\n",
      "\n",
      "defense\n",
      "sorry\n",
      "\n",
      "will\n",
      "fraud\n",
      "even\n",
      "slur\n",
      "just\n",
      "racist\n",
      "interesting\n",
      "\n",
      "\n",
      "drama\n",
      "even\n",
      "\n",
      "simple\n",
      "\n",
      "\n",
      "real\n",
      "racists\n",
      "attractive\n",
      "will\n",
      "against\n",
      "real\n",
      "confidence\n",
      "\n",
      "lies\n",
      "\n",
      "\n",
      "mistake\n",
      "\n",
      "extermination\n",
      "will\n",
      "\n",
      "\n",
      "supporter\n",
      "trying\n",
      "clean\n",
      "problems\n",
      "weak\n",
      "nice\n",
      "will\n",
      "\n",
      "\n",
      "supporter\n",
      "trying\n",
      "clean\n",
      "problems\n",
      "weak\n",
      "respect\n",
      "supreme\n",
      "great\n",
      "\n",
      "better\n",
      "\n",
      "little\n",
      "game\n",
      "\n",
      "\n",
      "\n",
      "drones\n",
      "\n",
      "prison\n",
      "\n",
      "liberty\n",
      "freedom\n",
      "\n",
      "justice\n",
      "\n",
      "\n",
      "defense\n",
      "okay\n",
      "calm\n",
      "black\n",
      "wow\n",
      "\n",
      "real\n",
      "\n",
      "wow\n",
      "celebrity\n",
      "bad\n",
      "will\n",
      "swift\n",
      "\n",
      "wow\n",
      "slur\n",
      "just\n",
      "racist\n",
      "interesting\n",
      "lame\n",
      "mean\n",
      "live\n",
      "attack\n",
      "\n",
      "sorry\n",
      "savage\n",
      "sexy\n",
      "interest\n",
      "radicals\n",
      "\n",
      "interest\n",
      "against\n",
      "will\n",
      "opportunity\n",
      "less\n",
      "\n",
      "love\n",
      "\n",
      "true\n",
      "conclusive\n",
      "real\n",
      "exposed\n",
      "traditional\n",
      "universal\n",
      "\n",
      "supreme\n",
      "\n",
      "right\n",
      "even\n",
      "\n",
      "trying\n",
      "supreme\n",
      "\n",
      "just\n",
      "dumb\n",
      "smart\n",
      "\n",
      "refuse\n",
      "maverick\n",
      "illegal\n",
      "tired\n",
      "relentless\n",
      "warfare\n",
      "maddening\n",
      "security\n",
      "\n",
      "right\n",
      "sorry\n",
      "will\n",
      "interest\n",
      "will\n",
      "defense\n",
      "\n",
      "well\n",
      "\n",
      "need\n",
      "favorite\n",
      "respect\n",
      "\n",
      "little\n",
      "game\n",
      "great\n",
      "interest\n",
      "will\n",
      "defense\n",
      "just\n",
      "dumb\n",
      "smart\n",
      "\n",
      "rift\n",
      "\n",
      "hope\n",
      "\n",
      "propaganda\n",
      "nice\n",
      "just\n",
      "dumb\n",
      "smart\n",
      "\n",
      "accuses\n",
      "threatening\n",
      "supreme\n",
      "\n",
      "\n",
      "close\n",
      "despot\n",
      "better\n",
      "despot\n",
      "hot\n",
      "imbroglio\n",
      "security\n",
      "good\n",
      "against\n",
      "close\n",
      "\n",
      "\n",
      "\n",
      "supporter\n",
      "trying\n",
      "clean\n",
      "limited\n",
      "felon\n",
      "just\n",
      "promise\n",
      "crazy\n",
      "failure\n",
      "\n",
      "smart\n",
      "supreme\n",
      "misunderstanding\n",
      "retreat\n",
      "indefensible\n",
      "down\n",
      "great\n",
      "despite\n",
      "\n",
      "blame\n",
      "\n",
      "fear\n",
      "dim\n",
      "\n",
      "\n",
      "better\n",
      "\n",
      "interest\n",
      "\n",
      "\n",
      "top\n",
      "war\n",
      "illuminati\n",
      "conspiracy\n",
      "supreme\n",
      "\n",
      "\n",
      "less\n",
      "\n",
      "supreme\n",
      "supreme\n",
      "\n",
      "lack\n",
      "\n",
      "supreme\n",
      "supreme\n",
      "supreme\n",
      "supreme\n",
      "\n",
      "\n",
      "supreme\n",
      "crackdown\n",
      "trying\n",
      "bully\n",
      "supreme\n",
      "warning\n",
      "\n",
      "will\n",
      "will\n",
      "damn\n",
      "\n",
      "will\n",
      "right\n",
      "dumb\n",
      "\n",
      "dispute\n",
      "\n",
      "fake\n",
      "\n",
      "will\n",
      "\n",
      "okay\n",
      "strong\n",
      "straight\n",
      "\n",
      "grave\n",
      "\n",
      "\n",
      "poor\n",
      "dying\n",
      "\n",
      "will\n",
      "idiot\n",
      "fun\n",
      "stupid\n",
      "promise\n",
      "just\n",
      "smart\n",
      "mean\n",
      "\n",
      "dictator\n",
      "\n",
      "down\n",
      "1365\n"
     ]
    }
   ],
   "source": [
    "for tweet in tweets_list:\n",
    "    positive_counter=0\n",
    "    negative_counter=0\n",
    "    tweet_processed=tweet.lower()\n",
    "    for p in list(punctuation):\n",
    "        tweet_processed=tweet_processed.replace(p,'')\n",
    "        words=tweet_processed.split(' ')\n",
    "        word_count=len(words)\n",
    "    for word in words:\n",
    "        if word in positive_words:\n",
    "            print word\n",
    "            positive_counter=positive_counter+1\n",
    "        elif word in negative_words:\n",
    "            print word\n",
    "            negative_counter=negative_counter+1\n",
    "    positive_counts.append(positive_counter/word_count)\n",
    "    negative_counts.append(negative_counter/word_count)\n",
    "print len(positive_counts)"
   ]
  },
  {
   "cell_type": "code",
   "execution_count": 210,
   "metadata": {
    "collapsed": false
   },
   "outputs": [],
   "source": [
    "import csv\n",
    "writer = csv.writer(open('tweet_sentiment.csv', 'wb'))"
   ]
  },
  {
   "cell_type": "code",
   "execution_count": 211,
   "metadata": {
    "collapsed": false
   },
   "outputs": [],
   "source": [
    "output=zip(tweets_list,positive_counts,negative_counts)"
   ]
  },
  {
   "cell_type": "code",
   "execution_count": 212,
   "metadata": {
    "collapsed": false
   },
   "outputs": [],
   "source": [
    "writer = csv.writer(open('tweet_sentiment.csv', 'wb'))"
   ]
  },
  {
   "cell_type": "code",
   "execution_count": 213,
   "metadata": {
    "collapsed": false
   },
   "outputs": [],
   "source": [
    "writer.writerows(output)"
   ]
  }
 ],
 "metadata": {
  "creator": "admin",
  "kernelspec": {
   "display_name": "Python 2",
   "language": "python",
   "name": "python2"
  },
  "language_info": {
   "codemirror_mode": {
    "name": "ipython",
    "version": 2
   },
   "file_extension": ".py",
   "mimetype": "text/x-python",
   "name": "python",
   "nbconvert_exporter": "python",
   "pygments_lexer": "ipython2",
   "version": "2.7.10"
  }
 },
 "nbformat": 4,
 "nbformat_minor": 0
}
